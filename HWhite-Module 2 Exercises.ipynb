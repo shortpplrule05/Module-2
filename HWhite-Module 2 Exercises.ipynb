{
 "cells": [
  {
   "cell_type": "code",
   "execution_count": 24,
   "id": "910a8417-3bb8-4fa1-a134-350f7a9b25c6",
   "metadata": {},
   "outputs": [
    {
     "name": "stdout",
     "output_type": "stream",
     "text": [
      "too low\n"
     ]
    }
   ],
   "source": [
    "#Exercise 4.1\n",
    "secret = 8\n",
    "guess = 4\n",
    "\n",
    "if guess < secret:\n",
    "    print(\"too low\")\n",
    "elif guess > secret:\n",
    "    print(\"too high\")\n",
    "else:\n",
    "    print(\"just right\")"
   ]
  },
  {
   "cell_type": "code",
   "execution_count": 38,
   "id": "0a3e083b-5c3c-422a-b2a4-8e4e36482e55",
   "metadata": {},
   "outputs": [
    {
     "name": "stdout",
     "output_type": "stream",
     "text": [
      "It's a watermelon.\n"
     ]
    }
   ],
   "source": [
    "#Exercise 4.2\n",
    "Small= False\n",
    "Green= True\n",
    "\n",
    "if Small:\n",
    "    if Green:\n",
    "        print(\"It's a pea.\")\n",
    "    else:\n",
    "        print(\"It's a cherry.\")\n",
    "else:\n",
    "    if Green:\n",
    "        print(\"It's a watermelon.\")\n",
    "    else:\n",
    "        print(\"It's a pumpkin.\")"
   ]
  },
  {
   "cell_type": "code",
   "execution_count": 60,
   "id": "4dc6fe69-c094-48cd-9837-ca1f705e1d4d",
   "metadata": {},
   "outputs": [
    {
     "name": "stdout",
     "output_type": "stream",
     "text": [
      "3\n",
      "2\n",
      "1\n",
      "0\n"
     ]
    }
   ],
   "source": [
    "#Exercise 6.1\n",
    "for x in range(3,-1,-1):\n",
    "    print(x)"
   ]
  },
  {
   "cell_type": "code",
   "execution_count": 44,
   "id": "9b0bc64f-cca0-4870-afca-931bbefffc2b",
   "metadata": {},
   "outputs": [
    {
     "data": {
      "text/plain": [
       "[3, 2, 1, 0]"
      ]
     },
     "execution_count": 44,
     "metadata": {},
     "output_type": "execute_result"
    }
   ],
   "source": [
    "list(range(3,-1,-1))"
   ]
  },
  {
   "cell_type": "code",
   "execution_count": 54,
   "id": "b84531a0-cde9-47a7-ad09-d7e31a01915e",
   "metadata": {},
   "outputs": [
    {
     "name": "stdout",
     "output_type": "stream",
     "text": [
      "too low\n",
      "too low\n",
      "too low\n",
      "too low\n",
      "too low\n",
      "too low\n",
      "too low\n",
      "found it!\n"
     ]
    }
   ],
   "source": [
    "#Exercise 6.2\n",
    "guess_me= 7\n",
    "number= 1\n",
    "\n",
    "while number <= guess_me:\n",
    "    print(\"too low\")\n",
    "    if number == guess_me:\n",
    "        print(\"found it!\")\n",
    "        break\n",
    "    if number > guess_me:\n",
    "        print(\"oops\")\n",
    "        break\n",
    "    number += 1    "
   ]
  },
  {
   "cell_type": "code",
   "execution_count": 58,
   "id": "0911ad61-dbb9-4faf-a4ea-affd55b866a3",
   "metadata": {},
   "outputs": [
    {
     "name": "stdout",
     "output_type": "stream",
     "text": [
      "too low\n",
      "too low\n",
      "too low\n",
      "too low\n",
      "too low\n",
      "found it!\n"
     ]
    }
   ],
   "source": [
    "#Exercise 6.3\n",
    "guess_me= 5\n",
    "\n",
    "for number in range(10):\n",
    "    if number < guess_me:\n",
    "        print(\"too low\")\n",
    "    if number == guess_me:\n",
    "        print(\"found it!\")\n",
    "        break\n",
    "    if number > guess_me:\n",
    "        print(\"oops\")\n",
    "        break"
   ]
  },
  {
   "cell_type": "code",
   "execution_count": null,
   "id": "5df31e93-fa40-4286-af89-2eed3c1aa0e3",
   "metadata": {},
   "outputs": [],
   "source": []
  }
 ],
 "metadata": {
  "kernelspec": {
   "display_name": "Python [conda env:base] *",
   "language": "python",
   "name": "conda-base-py"
  },
  "language_info": {
   "codemirror_mode": {
    "name": "ipython",
    "version": 3
   },
   "file_extension": ".py",
   "mimetype": "text/x-python",
   "name": "python",
   "nbconvert_exporter": "python",
   "pygments_lexer": "ipython3",
   "version": "3.12.7"
  }
 },
 "nbformat": 4,
 "nbformat_minor": 5
}
